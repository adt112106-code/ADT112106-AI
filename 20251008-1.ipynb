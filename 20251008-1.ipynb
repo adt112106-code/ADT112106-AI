{
 "cells": [
  {
   "cell_type": "code",
   "execution_count": 1,
   "id": "6b606884-3851-43fe-af07-61587a564a1e",
   "metadata": {},
   "outputs": [
    {
     "name": "stdin",
     "output_type": "stream",
     "text": [
      "請輸入正整數： 10\n"
     ]
    }
   ],
   "source": [
    "sum = 0\n",
    "n = int(input(\"請輸入正整數：\"))\n"
   ]
  },
  {
   "cell_type": "code",
   "execution_count": 2,
   "id": "ec0085c8-fee4-41de-8b54-1a1693a63ef2",
   "metadata": {},
   "outputs": [],
   "source": [
    "for i in range(1,n+1):\n",
    "    sum += i"
   ]
  },
  {
   "cell_type": "code",
   "execution_count": 3,
   "id": "789663b9-7ffb-46d1-9bce-402fcff9bdee",
   "metadata": {},
   "outputs": [
    {
     "name": "stdout",
     "output_type": "stream",
     "text": [
      "1 到 10 的整數和為 55\n"
     ]
    }
   ],
   "source": [
    "print(\"1 到 %d 的整數和為 %d\" %(n,sum))\n"
   ]
  },
  {
   "cell_type": "code",
   "execution_count": null,
   "id": "14331342-cb33-4e4c-bc6e-9e90c03747de",
   "metadata": {},
   "outputs": [],
   "source": []
  }
 ],
 "metadata": {
  "kernelspec": {
   "display_name": "Python 3 (ipykernel)",
   "language": "python",
   "name": "python3"
  },
  "language_info": {
   "codemirror_mode": {
    "name": "ipython",
    "version": 3
   },
   "file_extension": ".py",
   "mimetype": "text/x-python",
   "name": "python",
   "nbconvert_exporter": "python",
   "pygments_lexer": "ipython3",
   "version": "3.13.5"
  }
 },
 "nbformat": 4,
 "nbformat_minor": 5
}
